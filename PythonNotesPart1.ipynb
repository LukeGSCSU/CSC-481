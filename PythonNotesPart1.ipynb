{
  "cells": [
    {
      "cell_type": "markdown",
      "metadata": {
        "id": "view-in-github",
        "colab_type": "text"
      },
      "source": [
        "<a href=\"https://colab.research.google.com/github/LukeGSCSU/CSC-481/blob/main/PythonNotesPart1.ipynb\" target=\"_parent\"><img src=\"https://colab.research.google.com/assets/colab-badge.svg\" alt=\"Open In Colab\"/></a>"
      ]
    },
    {
      "cell_type": "markdown",
      "source": [
        "# **Luke Gomes Python Notes Part**"
      ],
      "metadata": {
        "id": "XLK1OCI6brEE"
      }
    },
    {
      "cell_type": "markdown",
      "metadata": {
        "id": "BDloX1VMIdQ5"
      },
      "source": [
        "Basic Arithmetic Operations"
      ]
    },
    {
      "cell_type": "code",
      "execution_count": 1,
      "metadata": {
        "colab": {
          "base_uri": "https://localhost:8080/"
        },
        "id": "g2hWYcGYIdQ6",
        "outputId": "6225d753-1d75-4189-b7bc-5da2a664459b"
      },
      "outputs": [
        {
          "output_type": "stream",
          "name": "stdout",
          "text": [
            "Sum:  15\n",
            "Difference:  5\n",
            "Product:  50\n",
            "Division:  2.0\n"
          ]
        }
      ],
      "source": [
        "a = 10\n",
        "b = 5\n",
        "sum = a + b\n",
        "difference = a - b\n",
        "product = a * b\n",
        "division = a / b\n",
        "\n",
        "print(\"Sum: \", sum)\n",
        "print(\"Difference: \", difference)\n",
        "print(\"Product: \", product)\n",
        "print(\"Division: \", division)"
      ]
    },
    {
      "cell_type": "code",
      "execution_count": 2,
      "metadata": {
        "colab": {
          "base_uri": "https://localhost:8080/"
        },
        "id": "zhqOQHgnIdQ7",
        "outputId": "205934b0-8741-4688-80d1-6c4fafb67c03"
      },
      "outputs": [
        {
          "output_type": "stream",
          "name": "stdout",
          "text": [
            "The sum of the two numbers 10, 5 is 15\n"
          ]
        }
      ],
      "source": [
        "print(f\"The sum of the two numbers {a}, {b} is {sum}\")"
      ]
    },
    {
      "cell_type": "code",
      "execution_count": 3,
      "metadata": {
        "colab": {
          "base_uri": "https://localhost:8080/"
        },
        "id": "yRdosamRIdQ8",
        "outputId": "10d6b26e-7683-4b9b-e6e0-e62959713f80"
      },
      "outputs": [
        {
          "output_type": "stream",
          "name": "stdout",
          "text": [
            "6\n",
            "1\n"
          ]
        }
      ],
      "source": [
        "x = 13//2\n",
        "print(x)\n",
        "y = 13 % 2\n",
        "print(y)"
      ]
    },
    {
      "cell_type": "markdown",
      "metadata": {
        "id": "_LI-5-OnIdQ8"
      },
      "source": [
        "Boolean Variables and Comparisons"
      ]
    },
    {
      "cell_type": "code",
      "execution_count": 4,
      "metadata": {
        "colab": {
          "base_uri": "https://localhost:8080/"
        },
        "id": "uEumT03DIdQ8",
        "outputId": "529a06e0-bc9d-488a-9f60-a1605806d46b"
      },
      "outputs": [
        {
          "output_type": "stream",
          "name": "stdout",
          "text": [
            "Is x greater than y? True\n",
            "Is x equal to y? False\n",
            "Is x not equal to y? True\n"
          ]
        }
      ],
      "source": [
        "x = 10\n",
        "y = 5\n",
        "\n",
        "is_greater = x > y\n",
        "is_equal = x == y\n",
        "is_not_equal = x != y\n",
        "\n",
        "print(\"Is x greater than y?\", is_greater)\n",
        "print(\"Is x equal to y?\", is_equal)\n",
        "print(\"Is x not equal to y?\", is_not_equal)"
      ]
    },
    {
      "cell_type": "markdown",
      "metadata": {
        "id": "W5mTWrK1IdQ8"
      },
      "source": [
        "Variable Assignment"
      ]
    },
    {
      "cell_type": "code",
      "execution_count": 5,
      "metadata": {
        "colab": {
          "base_uri": "https://localhost:8080/"
        },
        "id": "iqkjlcKbIdQ9",
        "outputId": "e3a8ca7b-d217-4fd4-a6f5-134faee281e3"
      },
      "outputs": [
        {
          "output_type": "stream",
          "name": "stdout",
          "text": [
            "Luke's age is 20. He is a professor, that is False.\n"
          ]
        }
      ],
      "source": [
        "name = \"Luke\"\n",
        "age = 20\n",
        "is_professor = False\n",
        "\n",
        "print(f\"{name}'s age is {age}. He is a professor, that is {is_professor}.\")"
      ]
    },
    {
      "cell_type": "markdown",
      "metadata": {
        "id": "KWSHCqTrIdQ9"
      },
      "source": [
        "Defining and using a function"
      ]
    },
    {
      "cell_type": "code",
      "execution_count": 6,
      "metadata": {
        "colab": {
          "base_uri": "https://localhost:8080/",
          "height": 52
        },
        "id": "UGN5Tyc6IdQ9",
        "outputId": "59574237-dcbd-4f04-84ce-b42a19cab529"
      },
      "outputs": [
        {
          "name": "stdout",
          "output_type": "stream",
          "text": [
            "Enter your name: Luke\n"
          ]
        },
        {
          "output_type": "execute_result",
          "data": {
            "text/plain": [
              "'Hello, Luke!'"
            ],
            "application/vnd.google.colaboratory.intrinsic+json": {
              "type": "string"
            }
          },
          "metadata": {},
          "execution_count": 6
        }
      ],
      "source": [
        "def greet(name):\n",
        "    return \"Hello, \" + name + \"!\"\n",
        "\n",
        "my_name = input(\"Enter your name: \")\n",
        "greet(\"Luke\")\n",
        "\n"
      ]
    },
    {
      "cell_type": "code",
      "execution_count": 7,
      "metadata": {
        "colab": {
          "base_uri": "https://localhost:8080/"
        },
        "id": "X4J-kBecIdQ9",
        "outputId": "fbae6893-c872-4dd3-ae42-d8e973d372cc"
      },
      "outputs": [
        {
          "output_type": "stream",
          "name": "stdout",
          "text": [
            "Enter first number: 1\n",
            "Enter second number: 5\n",
            "The result of addition for 1, 5 is 6.\n"
          ]
        }
      ],
      "source": [
        "def add_numbers(a,b):\n",
        "    return a + b\n",
        "\n",
        "a = int(input(\"Enter first number: \"))\n",
        "b = int(input(\"Enter second number: \"))\n",
        "\n",
        "addition_value = add_numbers(a,b)\n",
        "print(f\"The result of addition for {a}, {b} is {addition_value}.\")\n"
      ]
    },
    {
      "cell_type": "code",
      "execution_count": 8,
      "metadata": {
        "colab": {
          "base_uri": "https://localhost:8080/"
        },
        "id": "h1IdEtlRIdQ-",
        "outputId": "d498b9a6-56a3-49c5-c87e-832951b06c02"
      },
      "outputs": [
        {
          "output_type": "stream",
          "name": "stdout",
          "text": [
            "Enter first number: 3\n",
            "Enter second number: 5\n",
            "The result of addition for 3, 5 is 8.\n"
          ]
        }
      ],
      "source": [
        "def add_numbers(a,b):\n",
        "    return a + b\n",
        "\n",
        "a = eval(input(\"Enter first number: \"))\n",
        "b = eval(input(\"Enter second number: \"))\n",
        "\n",
        "addition_value = add_numbers(a,b)\n",
        "print(f\"The result of addition for {a}, {b} is {addition_value}.\")\n"
      ]
    },
    {
      "cell_type": "markdown",
      "metadata": {
        "id": "Xv7POTFBIdQ-"
      },
      "source": [
        "Working with strings"
      ]
    },
    {
      "cell_type": "code",
      "execution_count": 9,
      "metadata": {
        "colab": {
          "base_uri": "https://localhost:8080/"
        },
        "id": "ZkoExkFcIdQ-",
        "outputId": "99e53190-2bab-45e0-9e9a-65ef0fb5c717"
      },
      "outputs": [
        {
          "output_type": "stream",
          "name": "stdout",
          "text": [
            "Original Message:  Hello,  World\n",
            "The length is: 13\n",
            "Uppercase: HELLO,  WORLD\n",
            "Lowercase: hello,  world\n",
            "Part of the message is:  Worl\n"
          ]
        }
      ],
      "source": [
        "message = \"Hello,  World\"\n",
        "length = len(message)\n",
        "uppercase = message.upper()\n",
        "lowercase = message.lower()\n",
        "substring = message[7:12]\n",
        "\n",
        "print(\"Original Message: \", message)\n",
        "print(\"The length is:\", length)\n",
        "print(\"Uppercase:\", uppercase)\n",
        "print(\"Lowercase:\", lowercase)\n",
        "print(\"Part of the message is:\", substring)"
      ]
    },
    {
      "cell_type": "markdown",
      "metadata": {
        "id": "MRy9iOgpIdQ-"
      },
      "source": [
        "Some examples on the use of the input command in python"
      ]
    },
    {
      "cell_type": "markdown",
      "metadata": {
        "id": "Sat7URUSIdQ-"
      },
      "source": [
        "Basic Input Example"
      ]
    },
    {
      "cell_type": "code",
      "execution_count": 10,
      "metadata": {
        "colab": {
          "base_uri": "https://localhost:8080/"
        },
        "id": "7IlVTsemIdQ-",
        "outputId": "c0140db2-a7ac-4e84-afc5-2fffda19f6d4"
      },
      "outputs": [
        {
          "output_type": "stream",
          "name": "stdout",
          "text": [
            "Enter the last name: Gomes\n",
            "Enter the first name: Luke\n",
            "Gomes, Luke\n"
          ]
        }
      ],
      "source": [
        "Last = input(\"Enter the last name: \")\n",
        "First = input(\"Enter the first name: \")\n",
        "\n",
        "print(f\"{Last}, {First}\")"
      ]
    },
    {
      "cell_type": "markdown",
      "metadata": {
        "id": "tZ8XEFjGIdQ_"
      },
      "source": [
        "Numeric Input Example"
      ]
    },
    {
      "cell_type": "code",
      "execution_count": 11,
      "metadata": {
        "colab": {
          "base_uri": "https://localhost:8080/"
        },
        "id": "tcXDdJEaIdQ_",
        "outputId": "c7950f87-fd4c-49eb-b602-9f5d2db88f5e"
      },
      "outputs": [
        {
          "output_type": "stream",
          "name": "stdout",
          "text": [
            "Enter your age: 20\n",
            "You will be 21 years old next year.\n"
          ]
        }
      ],
      "source": [
        "age = int(input(\"Enter your age: \"))\n",
        "print(\"You will be\", age + 1, \"years old next year.\")"
      ]
    },
    {
      "cell_type": "markdown",
      "metadata": {
        "id": "t8H7OJBkIdQ_"
      },
      "source": [
        "Calculations with input"
      ]
    },
    {
      "cell_type": "code",
      "execution_count": 12,
      "metadata": {
        "colab": {
          "base_uri": "https://localhost:8080/"
        },
        "id": "_aoyuKuvIdQ_",
        "outputId": "d29b6951-7ab0-4e63-cc8f-6893ee4b0e53"
      },
      "outputs": [
        {
          "output_type": "stream",
          "name": "stdout",
          "text": [
            "Enter a number: 2\n",
            "Enter another number: 7\n",
            "Sum: 9.0\n"
          ]
        }
      ],
      "source": [
        "num1 = float(input(\"Enter a number: \"))\n",
        "num2 = float(input(\"Enter another number: \"))\n",
        "sum_result = num1 + num2\n",
        "print(\"Sum:\", sum_result)"
      ]
    },
    {
      "cell_type": "markdown",
      "metadata": {
        "id": "hFExASIfIdQ_"
      },
      "source": [
        "String Concatenation with Input"
      ]
    },
    {
      "cell_type": "code",
      "execution_count": 13,
      "metadata": {
        "colab": {
          "base_uri": "https://localhost:8080/"
        },
        "id": "u0rfdjBrIdQ_",
        "outputId": "edcc99a9-d00f-4a80-a317-e4ebee7eca61"
      },
      "outputs": [
        {
          "output_type": "stream",
          "name": "stdout",
          "text": [
            "Enter your city: Shelton\n",
            "Enter your country: USA\n",
            "You are in  Shelton,USA\n"
          ]
        }
      ],
      "source": [
        "city = input(\"Enter your city: \")\n",
        "country = input(\"Enter your country: \")\n",
        "location = city + \",\" + country\n",
        "print(\"You are in \", location)"
      ]
    },
    {
      "cell_type": "markdown",
      "metadata": {
        "id": "w2Mqv-QeIdQ_"
      },
      "source": [
        "Multiple Inputs"
      ]
    },
    {
      "cell_type": "code",
      "execution_count": 14,
      "metadata": {
        "colab": {
          "base_uri": "https://localhost:8080/"
        },
        "id": "2kcHwltvIdQ_",
        "outputId": "43f0a46e-088f-42a2-faef-951af089feb0"
      },
      "outputs": [
        {
          "output_type": "stream",
          "name": "stdout",
          "text": [
            "Enter your name and age separated by space: Luke 20\n",
            "My name is Luke and my age is 20\n"
          ]
        }
      ],
      "source": [
        "name, age = input(\"Enter your name and age separated by space: \").split()\n",
        "print(f\"My name is {name} and my age is {age}\")"
      ]
    },
    {
      "cell_type": "code",
      "source": [
        "from google.colab import drive\n",
        "drive.mount('/content/drive')"
      ],
      "metadata": {
        "colab": {
          "base_uri": "https://localhost:8080/"
        },
        "id": "GN1Ds2PtL-NQ",
        "outputId": "14829062-175d-4a0f-ffa2-f7f97530d8b8"
      },
      "execution_count": 15,
      "outputs": [
        {
          "output_type": "stream",
          "name": "stdout",
          "text": [
            "Mounted at /content/drive\n"
          ]
        }
      ]
    }
  ],
  "metadata": {
    "kernelspec": {
      "display_name": "base",
      "language": "python",
      "name": "python3"
    },
    "language_info": {
      "codemirror_mode": {
        "name": "ipython",
        "version": 3
      },
      "file_extension": ".py",
      "mimetype": "text/x-python",
      "name": "python",
      "nbconvert_exporter": "python",
      "pygments_lexer": "ipython3",
      "version": "3.11.7"
    },
    "colab": {
      "provenance": [],
      "include_colab_link": true
    }
  },
  "nbformat": 4,
  "nbformat_minor": 0
}