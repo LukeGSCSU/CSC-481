{
 "cells": [
  {
   "cell_type": "markdown",
   "metadata": {},
   "source": [
    "Basic Arithmetic Operations"
   ]
  },
  {
   "cell_type": "code",
   "execution_count": null,
   "metadata": {},
   "outputs": [
    {
     "name": "stdout",
     "output_type": "stream",
     "text": [
      "Sum:  15\n",
      "Difference:  5\n",
      "Product:  50\n",
      "Division:  2.0\n"
     ]
    }
   ],
   "source": [
    "a = 10\n",
    "b = 5\n",
    "sum = a + b\n",
    "difference = a - b\n",
    "product = a * b\n",
    "division = a / b\n",
    "\n",
    "print(\"Sum: \", sum)\n",
    "print(\"Difference: \", difference)\n",
    "print(\"Product: \", product)\n",
    "print(\"Division: \", division)"
   ]
  },
  {
   "cell_type": "code",
   "execution_count": null,
   "metadata": {},
   "outputs": [
    {
     "name": "stdout",
     "output_type": "stream",
     "text": [
      "The sun of the two numbers 10, 5 is 15\n"
     ]
    }
   ],
   "source": [
    "print(f\"The sum of the two numbers {a}, {b} is {sum}\")"
   ]
  },
  {
   "cell_type": "code",
   "execution_count": 8,
   "metadata": {},
   "outputs": [
    {
     "name": "stdout",
     "output_type": "stream",
     "text": [
      "6\n",
      "1\n"
     ]
    }
   ],
   "source": [
    "x = 13//2\n",
    "print(x)\n",
    "y = 13 % 2\n",
    "print(y)"
   ]
  },
  {
   "cell_type": "markdown",
   "metadata": {},
   "source": [
    "Boolean Variables and Comparisons"
   ]
  },
  {
   "cell_type": "code",
   "execution_count": 9,
   "metadata": {},
   "outputs": [
    {
     "name": "stdout",
     "output_type": "stream",
     "text": [
      "Is x greater than y? True\n",
      "Is x equal to y? False\n",
      "Is x not equal to y? True\n"
     ]
    }
   ],
   "source": [
    "x = 10\n",
    "y = 5\n",
    "\n",
    "is_greater = x > y\n",
    "is_equal = x == y\n",
    "is_not_equal = x != y\n",
    "\n",
    "print(\"Is x greater than y?\", is_greater)\n",
    "print(\"Is x equal to y?\", is_equal)\n",
    "print(\"Is x not equal to y?\", is_not_equal)"
   ]
  },
  {
   "cell_type": "markdown",
   "metadata": {},
   "source": [
    "Variable Assignment"
   ]
  },
  {
   "cell_type": "code",
   "execution_count": 10,
   "metadata": {},
   "outputs": [
    {
     "name": "stdout",
     "output_type": "stream",
     "text": [
      "Luke's age is 20. He is a professor, that is False.\n"
     ]
    }
   ],
   "source": [
    "name = \"Luke\"\n",
    "age = 20\n",
    "is_professor = False\n",
    "\n",
    "print(f\"{name}'s age is {age}. He is a professor, that is {is_professor}.\")"
   ]
  },
  {
   "cell_type": "markdown",
   "metadata": {},
   "source": [
    "Defining and using a function"
   ]
  },
  {
   "cell_type": "code",
   "execution_count": 16,
   "metadata": {},
   "outputs": [
    {
     "data": {
      "text/plain": [
       "'Hello, Luke!'"
      ]
     },
     "execution_count": 16,
     "metadata": {},
     "output_type": "execute_result"
    }
   ],
   "source": [
    "def greet(name):\n",
    "    return \"Hello, \" + name + \"!\"\n",
    "\n",
    "my_name = input(\"Enter your name: \")\n",
    "greet(\"Luke\")\n",
    "\n"
   ]
  },
  {
   "cell_type": "code",
   "execution_count": 18,
   "metadata": {},
   "outputs": [
    {
     "name": "stdout",
     "output_type": "stream",
     "text": [
      "The result of addition for 2, 3 is 5.\n"
     ]
    }
   ],
   "source": [
    "def add_numbers(a,b):\n",
    "    return a + b\n",
    "\n",
    "a = int(input(\"Enter first number: \"))\n",
    "b = int(input(\"Enter second number: \"))\n",
    "\n",
    "addition_value = add_numbers(a,b)\n",
    "print(f\"The result of addition for {a}, {b} is {addition_value}.\")\n"
   ]
  },
  {
   "cell_type": "code",
   "execution_count": 19,
   "metadata": {},
   "outputs": [
    {
     "name": "stdout",
     "output_type": "stream",
     "text": [
      "The result of addition for -4.5, 10 is 5.5.\n"
     ]
    }
   ],
   "source": [
    "def add_numbers(a,b):\n",
    "    return a + b\n",
    "\n",
    "a = eval(input(\"Enter first number: \"))\n",
    "b = eval(input(\"Enter second number: \"))\n",
    "\n",
    "addition_value = add_numbers(a,b)\n",
    "print(f\"The result of addition for {a}, {b} is {addition_value}.\")\n"
   ]
  },
  {
   "cell_type": "markdown",
   "metadata": {},
   "source": [
    "Working with strings"
   ]
  },
  {
   "cell_type": "code",
   "execution_count": null,
   "metadata": {},
   "outputs": [
    {
     "name": "stdout",
     "output_type": "stream",
     "text": [
      "Original Message:  Hello,  World\n",
      "The length is:  13\n",
      "Uppercase:  HELLO,  WORLD\n",
      "Lowercase:  hello,  world\n",
      "Part of the message is:   Worl\n"
     ]
    }
   ],
   "source": [
    "message = \"Hello,  World\"\n",
    "length = len(message)\n",
    "uppercase = message.upper()\n",
    "lowercase = message.lower()\n",
    "substring = message[7:12]\n",
    "\n",
    "print(\"Original Message: \", message)\n",
    "print(\"The length is:\", length)\n",
    "print(\"Uppercase:\", uppercase)\n",
    "print(\"Lowercase:\", lowercase)\n",
    "print(\"Part of the message is:\", substring)"
   ]
  },
  {
   "cell_type": "markdown",
   "metadata": {},
   "source": [
    "Some examples on the use of the input command in python"
   ]
  },
  {
   "cell_type": "markdown",
   "metadata": {},
   "source": [
    "Basic Input Example"
   ]
  },
  {
   "cell_type": "code",
   "execution_count": 21,
   "metadata": {},
   "outputs": [
    {
     "name": "stdout",
     "output_type": "stream",
     "text": [
      "Gomes, Luke\n"
     ]
    }
   ],
   "source": [
    "Last = input(\"Enter the last name: \")\n",
    "First = input(\"Enter the first name: \")\n",
    "\n",
    "print(f\"{Last}, {First}\")"
   ]
  },
  {
   "cell_type": "markdown",
   "metadata": {},
   "source": [
    "Numeric Input Example"
   ]
  },
  {
   "cell_type": "code",
   "execution_count": null,
   "metadata": {},
   "outputs": [
    {
     "name": "stdout",
     "output_type": "stream",
     "text": [
      "You will be 21 years old nex year.\n"
     ]
    }
   ],
   "source": [
    "age = int(input(\"Enter your age: \"))\n",
    "print(\"You will be\", age + 1, \"years old next year.\")"
   ]
  },
  {
   "cell_type": "markdown",
   "metadata": {},
   "source": [
    "Calculations with input"
   ]
  },
  {
   "cell_type": "code",
   "execution_count": 23,
   "metadata": {},
   "outputs": [
    {
     "name": "stdout",
     "output_type": "stream",
     "text": [
      "Sum: 3.0\n"
     ]
    }
   ],
   "source": [
    "num1 = float(input(\"Enter a number: \"))\n",
    "num2 = float(input(\"Enter another number: \"))\n",
    "sum_result = num1 + num2\n",
    "print(\"Sum:\", sum_result)"
   ]
  },
  {
   "cell_type": "markdown",
   "metadata": {},
   "source": [
    "String Concatenation with Input"
   ]
  },
  {
   "cell_type": "code",
   "execution_count": null,
   "metadata": {},
   "outputs": [
    {
     "name": "stdout",
     "output_type": "stream",
     "text": [
      "You are in Shelton,USA\n"
     ]
    }
   ],
   "source": [
    "city = input(\"Enter your city: \")\n",
    "country = input(\"Enter your country: \")\n",
    "location = city + \",\" + country\n",
    "print(\"You are in \", location)"
   ]
  },
  {
   "cell_type": "markdown",
   "metadata": {},
   "source": [
    "Multiple Inputs"
   ]
  },
  {
   "cell_type": "code",
   "execution_count": 25,
   "metadata": {},
   "outputs": [
    {
     "name": "stdout",
     "output_type": "stream",
     "text": [
      "My name is Luke and my age is 20\n"
     ]
    }
   ],
   "source": [
    "name, age = input(\"Enter your name and age separated by space: \").split()\n",
    "print(f\"My name is {name} and my age is {age}\")"
   ]
  }
 ],
 "metadata": {
  "kernelspec": {
   "display_name": "base",
   "language": "python",
   "name": "python3"
  },
  "language_info": {
   "codemirror_mode": {
    "name": "ipython",
    "version": 3
   },
   "file_extension": ".py",
   "mimetype": "text/x-python",
   "name": "python",
   "nbconvert_exporter": "python",
   "pygments_lexer": "ipython3",
   "version": "3.11.7"
  }
 },
 "nbformat": 4,
 "nbformat_minor": 2
}
